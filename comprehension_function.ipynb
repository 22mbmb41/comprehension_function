{
 "cells": [
  {
   "cell_type": "code",
   "execution_count": 1,
   "id": "13e6dceb-c7d5-4193-aa48-21e8484aed4b",
   "metadata": {},
   "outputs": [],
   "source": [
    "l=[1,2,3,4,5,6,7]\n",
    "l1=[]\n",
    "for i in l:\n",
    "    l1.append(i*10)"
   ]
  },
  {
   "cell_type": "code",
   "execution_count": 2,
   "id": "dec95af3-a498-4023-9a30-c32b34427375",
   "metadata": {},
   "outputs": [
    {
     "data": {
      "text/plain": [
       "[10, 20, 30, 40, 50, 60, 70]"
      ]
     },
     "execution_count": 2,
     "metadata": {},
     "output_type": "execute_result"
    }
   ],
   "source": [
    "l1"
   ]
  },
  {
   "cell_type": "code",
   "execution_count": 4,
   "id": "9f801f09-1a19-4d9d-bf2d-35bffc780b00",
   "metadata": {},
   "outputs": [],
   "source": [
    "p=[i*2 for i in l]"
   ]
  },
  {
   "cell_type": "code",
   "execution_count": 8,
   "id": "e89203df-8e93-43fe-bf14-d09f2170756a",
   "metadata": {},
   "outputs": [],
   "source": [
    "o=[i**2 for i in l]"
   ]
  },
  {
   "cell_type": "code",
   "execution_count": 5,
   "id": "5b8cf078-e27a-4be1-8dac-31c0103bad24",
   "metadata": {},
   "outputs": [
    {
     "data": {
      "text/plain": [
       "[2, 4, 6, 8, 10, 12, 14]"
      ]
     },
     "execution_count": 5,
     "metadata": {},
     "output_type": "execute_result"
    }
   ],
   "source": [
    "p"
   ]
  },
  {
   "cell_type": "code",
   "execution_count": 6,
   "id": "3b0c6226-3a03-4e3f-af89-fce2cc0b65f7",
   "metadata": {},
   "outputs": [
    {
     "data": {
      "text/plain": [
       "[2, 4, 6, 8, 10, 12, 14]"
      ]
     },
     "execution_count": 6,
     "metadata": {},
     "output_type": "execute_result"
    }
   ],
   "source": [
    "[i for i in p if i % 2 ==0 ]"
   ]
  },
  {
   "cell_type": "code",
   "execution_count": 9,
   "id": "87d24369-37e7-4848-8619-d9651b5d87d8",
   "metadata": {},
   "outputs": [
    {
     "data": {
      "text/plain": [
       "[4, 16, 36]"
      ]
     },
     "execution_count": 9,
     "metadata": {},
     "output_type": "execute_result"
    }
   ],
   "source": [
    "[i for i in o if i % 2 ==0 ]"
   ]
  },
  {
   "cell_type": "code",
   "execution_count": 10,
   "id": "bb70307d-3fb1-46d7-b564-8f0befd5b712",
   "metadata": {},
   "outputs": [
    {
     "data": {
      "text/plain": [
       "[1, 4, 9, 16, 25, 36, 49]"
      ]
     },
     "execution_count": 10,
     "metadata": {},
     "output_type": "execute_result"
    }
   ],
   "source": [
    "o"
   ]
  },
  {
   "cell_type": "code",
   "execution_count": 11,
   "id": "064fd2c2-36dc-418a-9ce2-ac37185c5ad0",
   "metadata": {},
   "outputs": [],
   "source": [
    "u=['sudhir','Ram','Mohan','sita','gita','farhan']"
   ]
  },
  {
   "cell_type": "code",
   "execution_count": 12,
   "id": "b7e59276-e772-48b8-934f-97c14cb34365",
   "metadata": {},
   "outputs": [
    {
     "data": {
      "text/plain": [
       "['SUDHIR', 'RAM', 'MOHAN', 'SITA', 'GITA', 'FARHAN']"
      ]
     },
     "execution_count": 12,
     "metadata": {},
     "output_type": "execute_result"
    }
   ],
   "source": [
    "[i.upper() for i in u ]"
   ]
  },
  {
   "cell_type": "code",
   "execution_count": 13,
   "id": "9b63198d-7a20-48ce-aa07-01cd9d86b4bf",
   "metadata": {},
   "outputs": [
    {
     "data": {
      "text/plain": [
       "['Sudhir', 'Ram', 'Mohan', 'Sita', 'Gita', 'Farhan']"
      ]
     },
     "execution_count": 13,
     "metadata": {},
     "output_type": "execute_result"
    }
   ],
   "source": [
    "[i.title() for i in u]"
   ]
  },
  {
   "cell_type": "code",
   "execution_count": 14,
   "id": "223279b3-c374-401f-90a7-cdd7ca6ccd07",
   "metadata": {},
   "outputs": [
    {
     "data": {
      "text/plain": [
       "['sudhir', 'ram', 'mohan', 'sita', 'gita', 'farhan']"
      ]
     },
     "execution_count": 14,
     "metadata": {},
     "output_type": "execute_result"
    }
   ],
   "source": [
    "[i.lower() for i in u]"
   ]
  },
  {
   "cell_type": "code",
   "execution_count": 15,
   "id": "91a3a709-561d-41d9-82ec-8007e1218245",
   "metadata": {},
   "outputs": [
    {
     "data": {
      "text/plain": [
       "[4, 16, 36, 64, 100, 144, 196]"
      ]
     },
     "execution_count": 15,
     "metadata": {},
     "output_type": "execute_result"
    }
   ],
   "source": [
    "list(i**2 for i in p )"
   ]
  },
  {
   "cell_type": "code",
   "execution_count": null,
   "id": "698d74f2-e314-46b8-9a86-ca8048570176",
   "metadata": {},
   "outputs": [],
   "source": [
    "d = {\"key1\" :1 , \"key2\" :2 , \"key3\":3 ,\"key4\" :4}"
   ]
  },
  {
   "cell_type": "code",
   "execution_count": null,
   "id": "78871ad3-03f7-4f82-958c-f7fb5cfeef2c",
   "metadata": {},
   "outputs": [],
   "source": [
    "{k:v**2 for k , v in d.items()}"
   ]
  },
  {
   "cell_type": "code",
   "execution_count": null,
   "id": "e33d7247-43f2-45ad-9ff4-d05d063b4068",
   "metadata": {},
   "outputs": [],
   "source": [
    "d.items()"
   ]
  },
  {
   "cell_type": "code",
   "execution_count": 16,
   "id": "e61cef90-9c14-4cae-b3bb-e578dabe41f1",
   "metadata": {},
   "outputs": [],
   "source": [
    "d1={\"key1\":1,\"key2\":2,\"key3\":3,\"key4\":4,\"key5\":5,\"key6\":6}"
   ]
  },
  {
   "cell_type": "code",
   "execution_count": 18,
   "id": "b005756f-041c-4bcc-b0b9-d2e226f4bb87",
   "metadata": {},
   "outputs": [
    {
     "data": {
      "text/plain": [
       "{'key1': 2, 'key2': 4, 'key3': 6, 'key4': 8, 'key5': 10, 'key6': 12}"
      ]
     },
     "execution_count": 18,
     "metadata": {},
     "output_type": "execute_result"
    }
   ],
   "source": [
    "{k:v*2 for k , v in d1.items()}"
   ]
  },
  {
   "cell_type": "code",
   "execution_count": 19,
   "id": "76987258-fc90-4fd1-85e7-75ba442bc92c",
   "metadata": {},
   "outputs": [
    {
     "data": {
      "text/plain": [
       "{1, 4, 9, 16, 25, 36}"
      ]
     },
     "execution_count": 19,
     "metadata": {},
     "output_type": "execute_result"
    }
   ],
   "source": [
    "{v**2 for k , v in d1.items()}"
   ]
  },
  {
   "cell_type": "code",
   "execution_count": 20,
   "id": "50148a33-08d9-42b2-89bb-ce7683a75556",
   "metadata": {},
   "outputs": [
    {
     "data": {
      "text/plain": [
       "{'KEY1', 'KEY2', 'KEY3', 'KEY4', 'KEY5', 'KEY6'}"
      ]
     },
     "execution_count": 20,
     "metadata": {},
     "output_type": "execute_result"
    }
   ],
   "source": [
    "{k.upper() for k in d1.keys() }"
   ]
  },
  {
   "cell_type": "code",
   "execution_count": 21,
   "id": "cf650545-5af6-470a-81be-9464e8dd90d4",
   "metadata": {},
   "outputs": [
    {
     "data": {
      "text/plain": [
       "{'Key1', 'Key2', 'Key3', 'Key4', 'Key5', 'Key6'}"
      ]
     },
     "execution_count": 21,
     "metadata": {},
     "output_type": "execute_result"
    }
   ],
   "source": [
    "{k.title() for k in d1.keys()}"
   ]
  },
  {
   "cell_type": "code",
   "execution_count": 23,
   "id": "c4f1ce12-90ed-484f-8653-18764b08cca1",
   "metadata": {},
   "outputs": [
    {
     "data": {
      "text/plain": [
       "[0.5, 1.0, 1.5, 2.0, 2.5, 3.0]"
      ]
     },
     "execution_count": 23,
     "metadata": {},
     "output_type": "execute_result"
    }
   ],
   "source": [
    "[d/2 for d in d1.values()]"
   ]
  },
  {
   "cell_type": "code",
   "execution_count": 24,
   "id": "ccb3743c-ce60-4285-80af-1ec44aa407aa",
   "metadata": {},
   "outputs": [
    {
     "data": {
      "text/plain": [
       "[3, 4, 5, 6, 7, 8]"
      ]
     },
     "execution_count": 24,
     "metadata": {},
     "output_type": "execute_result"
    }
   ],
   "source": [
    "[d+2 for d in d1.values()]"
   ]
  },
  {
   "cell_type": "code",
   "execution_count": 26,
   "id": "248f18e4-b8cd-4845-958d-75fe39c3ffb8",
   "metadata": {},
   "outputs": [
    {
     "data": {
      "text/plain": [
       "{'key4': 4, 'key5': 5, 'key6': 6}"
      ]
     },
     "execution_count": 26,
     "metadata": {},
     "output_type": "execute_result"
    }
   ],
   "source": [
    "{k:v for k , v in d1.items() if v>3}"
   ]
  },
  {
   "cell_type": "code",
   "execution_count": 27,
   "id": "4b8b54f5-519a-4567-9525-cfb8ec1711cd",
   "metadata": {},
   "outputs": [
    {
     "data": {
      "text/plain": [
       "{'key5': 5}"
      ]
     },
     "execution_count": 27,
     "metadata": {},
     "output_type": "execute_result"
    }
   ],
   "source": [
    "{k:v for k , v in d1.items() if v==5}"
   ]
  },
  {
   "cell_type": "code",
   "execution_count": null,
   "id": "baa1a2de-8eb0-41cd-9a96-4f4ec37ad98e",
   "metadata": {},
   "outputs": [],
   "source": []
  }
 ],
 "metadata": {
  "kernelspec": {
   "display_name": "Python 3 (ipykernel)",
   "language": "python",
   "name": "python3"
  },
  "language_info": {
   "codemirror_mode": {
    "name": "ipython",
    "version": 3
   },
   "file_extension": ".py",
   "mimetype": "text/x-python",
   "name": "python",
   "nbconvert_exporter": "python",
   "pygments_lexer": "ipython3",
   "version": "3.10.8"
  }
 },
 "nbformat": 4,
 "nbformat_minor": 5
}
